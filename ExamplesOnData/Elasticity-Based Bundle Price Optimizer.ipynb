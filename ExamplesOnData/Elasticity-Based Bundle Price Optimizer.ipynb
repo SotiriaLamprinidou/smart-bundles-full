{
 "cells": [
  {
   "cell_type": "markdown",
   "metadata": {},
   "source": [
    "Disclaimer\n",
    "\n",
    "> Το παρόν notebook αποτελεί τεχνική τεκμηρίωση της μεθοδολογίας δυναμικής τιμολόγησης bundles με χρήση AI μοντέλων και εκτίμησης ελαστικότητας ανά κατηγορία.\n",
    "> Δεν είναι σχεδιασμένο για άμεση εκτέλεση καθώς:\n",
    " - Δεν περιλαμβάνονται τα αρχικά datasets (`orders_df_copy`, `inventory_df`, bundles κ.λπ.)\n",
    " - Ορισμένες μεταβλητές και βοηθητικές συναρτήσεις θεωρούνται ήδη ορισμένες\n",
    " - Απαιτείται προσαρμογή στον εκάστοτε χώρο εργασίας (paths, στήλες, μοντέλα)\n",
    "\n",
    "> Στόχος είναι να παρουσιαστεί η λογική, η μεθοδολογία και η δομή της λύσης.\n",
    "\n",
    "Απαραίτητα Δεδομένα (Είσοδος)\n",
    "1.  Ιστορικά Δεδομένα Παραγγελιών – orders_df_copy\n",
    "    Στήλες (SKU, Item Tittle, Category, Brand, FinalUnitPrice, Date)\n",
    "2. Απόθεμα Προϊόντων – inventory_df\n",
    "    Στήλες (SKU, Quantity)\n",
    "3. Bundles – (volume, rule-based, thematic, clearance)\n"
   ]
  },
  {
   "cell_type": "markdown",
   "metadata": {},
   "source": [
    "Εκτίμηση ελαστικότητας ανά κατηγορία"
   ]
  },
  {
   "cell_type": "code",
   "execution_count": null,
   "metadata": {},
   "outputs": [],
   "source": [
    "from sklearn.linear_model import LinearRegression\n",
    "import pandas as pd\n",
    "\n",
    "category_elasticities = []\n",
    "\n",
    "for category in orders_df_copy['Category'].dropna().unique():\n",
    "    df_cat = orders_df_copy[orders_df_copy['Category'] == category]\n",
    "    \n",
    "    if df_cat['FinalUnitPrice'].nunique() < 2 or len(df_cat) < 20:\n",
    "        continue\n",
    "\n",
    "    X = df_cat[['FinalUnitPrice']]\n",
    "    y = df_cat['Quantity']\n",
    "    \n",
    "    model = LinearRegression()\n",
    "    model.fit(X, y)\n",
    "    \n",
    "    elasticity = model.coef_[0]\n",
    "    category_elasticities.append({\n",
    "        'Category': category,\n",
    "        'EstimatedElasticity': round(elasticity, 3),\n",
    "        'Observations': len(df_cat)\n",
    "    })\n",
    "\n",
    "elasticity_by_category_df = pd.DataFrame(category_elasticities)\n"
   ]
  },
  {
   "cell_type": "markdown",
   "metadata": {},
   "source": [
    "Συγκέντρωση πληροφοριών ανά SKU (μέση τιμή, συνολική ζήτηση και αντιστοίχιση κατηγορίας.)"
   ]
  },
  {
   "cell_type": "code",
   "execution_count": null,
   "metadata": {},
   "outputs": [],
   "source": [
    "sku_summary = orders_df_copy.groupby('SKU').agg({\n",
    "    'FinalUnitPrice': 'mean',\n",
    "    'Quantity': 'sum'\n",
    "}).reset_index()\n",
    "\n",
    "sku_summary.columns = ['SKU', 'AvgPrice', 'TotalUnitsSold']\n",
    "\n",
    "# Προσθήκη κατηγορίας ανά SKU\n",
    "sku_category = orders_df_copy[['SKU', 'Category']].drop_duplicates()\n",
    "sku_summary = pd.merge(sku_summary, sku_category, on='SKU', how='left')\n",
    "\n",
    "# Προσθήκη ελαστικότητας ανά κατηγορία\n",
    "sku_summary = pd.merge(sku_summary, elasticity_by_category_df, on='Category', how='left')\n",
    "sku_summary['EstimatedElasticity'] = sku_summary['EstimatedElasticity'].fillna(-1.5)  # fallback\n"
   ]
  },
  {
   "cell_type": "markdown",
   "metadata": {},
   "source": [
    "Υπολογισμός βέλτιστης τιμής ανά SKU --> μεγιστοποίηση εισόδου"
   ]
  },
  {
   "cell_type": "code",
   "execution_count": null,
   "metadata": {},
   "outputs": [],
   "source": [
    "from scipy.optimize import minimize_scalar\n",
    "\n",
    "def demand_model(price, base_price, base_demand, elasticity):\n",
    "    pct_change = (price - base_price) / base_price\n",
    "    return base_demand * (1 + elasticity * -pct_change)\n",
    "\n",
    "def revenue_function(price, base_price, base_demand, elasticity):\n",
    "    return -price * demand_model(price, base_price, base_demand, elasticity)\n",
    "\n",
    "optimized_prices = []\n",
    "\n",
    "for _, row in sku_summary.iterrows():\n",
    "    sku = row['SKU']\n",
    "    base_price = row['AvgPrice']\n",
    "    base_demand = row['TotalUnitsSold']\n",
    "    elasticity = row['EstimatedElasticity']\n",
    "\n",
    "    result = minimize_scalar(\n",
    "        revenue_function,\n",
    "        bounds=(base_price * 0.5, base_price * 1.5),\n",
    "        args=(base_price, base_demand, elasticity),\n",
    "        method='bounded'\n",
    "    )\n",
    "\n",
    "    optimal_price = round(result.x, 2)\n",
    "    optimized_prices.append({\n",
    "        'SKU': sku,\n",
    "        'BasePrice': round(base_price, 2),\n",
    "        'BaseDemand': int(base_demand),\n",
    "        'Category': row['Category'],\n",
    "        'Elasticity': round(elasticity, 3),\n",
    "        'OptimizedPrice': optimal_price\n",
    "    })\n",
    "\n",
    "optimized_df = pd.DataFrame(optimized_prices)\n"
   ]
  },
  {
   "cell_type": "markdown",
   "metadata": {},
   "source": [
    "Εφαρμογή στις Bundles με mapping"
   ]
  },
  {
   "cell_type": "code",
   "execution_count": null,
   "metadata": {},
   "outputs": [],
   "source": [
    "sku_price_map = dict(zip(optimized_df['SKU'], optimized_df['OptimizedPrice']))\n",
    "\n",
    "rule_bundles_df['Price_A'] = rule_bundles_df['SKU_A'].map(sku_price_map)\n",
    "rule_bundles_df['Price_B'] = rule_bundles_df['SKU_B'].map(sku_price_map)\n",
    "rule_bundles_df['OptimizedBundlePrice'] = rule_bundles_df['Price_A'] + rule_bundles_df['Price_B']\n",
    "\n",
    "volume_bundles['OptimizedUnitPrice'] = volume_bundles['SKU'].map(sku_price_map)\n",
    "volume_bundles['OptimizedBundlePrice'] = volume_bundles['OptimizedUnitPrice'] * volume_bundles['Qty']\n",
    "\n",
    "clearance_bundles_df['Price_A'] = clearance_bundles_df['SKU_A'].map(sku_price_map)\n",
    "clearance_bundles_df['Price_B'] = clearance_bundles_df['SKU_B'].map(sku_price_map)\n",
    "clearance_bundles_df['OptimizedBundlePrice'] = clearance_bundles_df['Price_A'] + clearance_bundles_df['Price_B']\n",
    "\n",
    "sku_to_title = orders_df_copy[['SKU', 'Item title']].drop_duplicates()\n",
    "title_to_sku = dict(zip(sku_to_title['Item title'], sku_to_title['SKU']))\n",
    "thematic_bundles_df['SKU_A'] = thematic_bundles_df['Item title A'].map(title_to_sku)\n",
    "thematic_bundles_df['SKU_B'] = thematic_bundles_df['Item title B'].map(title_to_sku)\n",
    "thematic_bundles_df['Price_A'] = thematic_bundles_df['SKU_A'].map(sku_price_map)\n",
    "thematic_bundles_df['Price_B'] = thematic_bundles_df['SKU_B'].map(sku_price_map)\n",
    "thematic_bundles_df['OptimizedBundlePrice'] = thematic_bundles_df['Price_A'] + thematic_bundles_df['Price_B']\n",
    "\n",
    "\n",
    "\n",
    "\n",
    "\n"
   ]
  }
 ],
 "metadata": {
  "language_info": {
   "name": "python"
  }
 },
 "nbformat": 4,
 "nbformat_minor": 2
}
